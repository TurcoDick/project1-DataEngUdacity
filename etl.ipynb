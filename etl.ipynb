{
 "cells": [
  {
   "cell_type": "markdown",
   "metadata": {
    "editable": true
   },
   "source": [
    "# ETL Processes\n",
    "Use this notebook to develop the ETL process for each of your tables before completing the `etl.py` file to load the whole datasets."
   ]
  },
  {
   "cell_type": "code",
   "execution_count": 9,
   "metadata": {
    "editable": true
   },
   "outputs": [],
   "source": [
    "import os\n",
    "import glob\n",
    "import psycopg2\n",
    "import pandas as pd\n",
    "import sql_queries as que\n",
    "import create_tables as create"
   ]
  },
  {
   "cell_type": "code",
   "execution_count": 10,
   "metadata": {
    "editable": true
   },
   "outputs": [],
   "source": [
    "try:\n",
    "    conn = psycopg2.connect(\"host=127.0.0.1 dbname=sparkifydb user=student password=student\")\n",
    "except psycopg2.Error as e:\n",
    "    print(\"Error: Could not make connection to the Postgres database\")\n",
    "    print(e)\n",
    "try:    \n",
    "    cur = conn.cursor()\n",
    "except psycopg2.Error as e: \n",
    "    print(\"Error: Could not get curser to the Database\")\n",
    "    print(e)\n",
    "conn.set_session(autocommit=True)"
   ]
  },
  {
   "cell_type": "code",
   "execution_count": 11,
   "metadata": {
    "editable": true
   },
   "outputs": [
    {
     "name": "stdout",
     "output_type": "stream",
     "text": [
      "Sucess: Dropping song table\n",
      "Sucess: Dropping artist table\n",
      "Sucess: Dropping songplay table\n",
      "Sucess: Dropping user table\n",
      "Sucess: Dropping time table\n",
      "Sucess: Creating song table\n",
      "Sucess: Creating artists table\n",
      "Sucess: Creating time table\n",
      "Sucess: Creating user table\n",
      "Sucess: Creating songplay table\n"
     ]
    }
   ],
   "source": [
    "# deletar tabelas\n",
    "try: \n",
    "    cur.execute(que.song_table_drop)\n",
    "    print(\"Sucess: Dropping song table\")\n",
    "except psycopg2.Error as e: \n",
    "    print(\"Error: Dropping table song\")\n",
    "    print (e)\n",
    "    \n",
    "try: \n",
    "    cur.execute(que.artist_table_drop)\n",
    "    print(\"Sucess: Dropping artist table\")\n",
    "except psycopg2.Error as e: \n",
    "    print(\"Error: Dropping table artist\")\n",
    "    print (e) \n",
    "    \n",
    "try: \n",
    "    cur.execute(que.songplay_table_drop)\n",
    "    print(\"Sucess: Dropping songplay table\")\n",
    "except psycopg2.Error as e: \n",
    "    print(\"Error: Dropping table songplay\")\n",
    "    print (e) \n",
    "    \n",
    "try: \n",
    "    cur.execute(que.user_table_drop)\n",
    "    print(\"Sucess: Dropping user table\")\n",
    "except psycopg2.Error as e: \n",
    "    print(\"Error: Dropping table\")\n",
    "    print (e) \n",
    "    \n",
    "try: \n",
    "    cur.execute(que.time_table_drop)\n",
    "    print(\"Sucess: Dropping time table\")\n",
    "except psycopg2.Error as e: \n",
    "    print(\"Error: Dropping table user\")\n",
    "    print (e)     \n",
    "    \n",
    "# +++++++++++++++++++++++++++++++++++++++++++++++++++++++++++++++\n",
    "    \n",
    "# criar tabelas\n",
    "try:\n",
    "    cur.execute(que.song_table_create)\n",
    "    print(\"Sucess: Creating song table\")\n",
    "except psycopg2.Error as e: \n",
    "    print(\"Error: Creating song table\")\n",
    "    print (e)\n",
    "    \n",
    "try:\n",
    "    cur.execute(que.artist_table_create)\n",
    "    print(\"Sucess: Creating artists table\")\n",
    "except psycopg2.Error as e: \n",
    "    print(\"Error: Creating artists table\")\n",
    "    print (e) \n",
    "    \n",
    "try:\n",
    "    cur.execute(que.time_table_create)\n",
    "    print(\"Sucess: Creating time table\")\n",
    "except psycopg2.Error as e: \n",
    "    print(\"Error: Creating time table\")\n",
    "    print (e)    \n",
    "    \n",
    "try:\n",
    "    cur.execute(que.user_table_create)\n",
    "    print(\"Sucess: Creating user table\")\n",
    "except psycopg2.Error as e: \n",
    "    print(\"Error: Creating user table\")\n",
    "    print (e)\n",
    "    \n",
    "try:\n",
    "    cur.execute(que.songplay_table_create)\n",
    "    print(\"Sucess: Creating songplay table\")\n",
    "except psycopg2.Error as e: \n",
    "    print(\"Error: Creating songplay table\")\n",
    "    print (e)      "
   ]
  },
  {
   "cell_type": "code",
   "execution_count": 12,
   "metadata": {
    "editable": true
   },
   "outputs": [],
   "source": [
    "def get_files(filepath):\n",
    "    all_files = []\n",
    "    for root, dirs, files in os.walk(filepath):\n",
    "        files = glob.glob(os.path.join(root,'*.json'))\n",
    "        for f in files :\n",
    "            all_files.append(os.path.abspath(f))\n",
    "    \n",
    "    return all_files"
   ]
  },
  {
   "cell_type": "code",
   "execution_count": 13,
   "metadata": {
    "editable": true
   },
   "outputs": [],
   "source": [
    "def getDataframeComplet(filepath):\n",
    "    all_files = get_files(filepath=filepath)\n",
    "    li = []\n",
    "\n",
    "    for filename in all_files:\n",
    "        df = pd.read_json(filename, lines=True)\n",
    "        li.append(df)\n",
    "\n",
    "    return pd.concat(li, axis=0, ignore_index=True)"
   ]
  },
  {
   "cell_type": "markdown",
   "metadata": {
    "editable": true
   },
   "source": [
    "# Process `song_data`\n",
    "In this first part, you'll perform ETL on the first dataset, `song_data`, to create the `songs` and `artists` dimensional tables.\n",
    "\n",
    "Let's perform ETL on a single song file and load a single record into each table to start.\n",
    "- Use the `get_files` function provided above to get a list of all song JSON files in `data/song_data`\n",
    "- Select the first song in this list\n",
    "- Read the song file and view the data"
   ]
  },
  {
   "cell_type": "code",
   "execution_count": 14,
   "metadata": {
    "editable": true
   },
   "outputs": [],
   "source": [
    "# song_files = get_files(\"./data/song_data/\")\n",
    "# filePathSong = song_files[0]\n",
    "# dfSongComplet = pd.read_json(filePathSong, lines=True)"
   ]
  },
  {
   "cell_type": "code",
   "execution_count": 15,
   "metadata": {
    "editable": true
   },
   "outputs": [],
   "source": [
    "dfSongComplet = getDataframeComplet(\"./data/song_data/\")\n",
    "dfSongComplet.rename(columns={'title': 'song'}, inplace=True)"
   ]
  },
  {
   "cell_type": "code",
   "execution_count": 16,
   "metadata": {
    "editable": true
   },
   "outputs": [],
   "source": [
    "#dfSongComplet"
   ]
  },
  {
   "cell_type": "markdown",
   "metadata": {
    "editable": true
   },
   "source": [
    "## #1: `songs` Table\n",
    "#### Extract Data for Songs Table\n",
    "- Select columns for song ID, title, artist ID, year, and duration\n",
    "- Use `df.values` to select just the values from the dataframe\n",
    "- Index to select the first (only) record in the dataframe\n",
    "- Convert the array to a list and set it to `song_data`"
   ]
  },
  {
   "cell_type": "code",
   "execution_count": 17,
   "metadata": {
    "editable": true
   },
   "outputs": [],
   "source": [
    "# método que adiciona colunas de IDs\n",
    "\n",
    "# def addColumnId(dataFrameComplet, addIdColumn, nameColumnId, typeColumn):\n",
    "#     # obter valores únicos\n",
    "#     dfValuesUniques = dfSongComplet.drop_duplicates(subset=addIdColumn, keep='first')\n",
    "    \n",
    "#     # adicionando os ids \n",
    "#     dfValuesUniques[nameColumnId] = (dfValuesUniques.index + 1).astype(typeColumn)\n",
    "    \n",
    "#     # join para juntar este dataframe com o dataframe completo\n",
    "#     dfValuesCompletWithId = dfValuesUniques.merge(dataFrameComplet, on=addIdColumn ,how='right', suffixes=('', '_dropp')).filter(regex=\"^(?!.*_dropp)\")\n",
    "    \n",
    "#     return dfValuesCompletWithId"
   ]
  },
  {
   "cell_type": "code",
   "execution_count": 18,
   "metadata": {
    "editable": true
   },
   "outputs": [],
   "source": [
    "dfSongClear = dfSongComplet[['song_id', 'song', 'artist_id', 'year', 'duration']]"
   ]
  },
  {
   "cell_type": "markdown",
   "metadata": {
    "editable": true
   },
   "source": [
    "#### Insert Record into Song Table\n",
    "Implement the `song_table_insert` query in `sql_queries.py` and run the cell below to insert a record for this song into the `songs` table. Remember to run `create_tables.py` before running the cell below to ensure you've created/resetted the `songs` table in the sparkify database."
   ]
  },
  {
   "cell_type": "code",
   "execution_count": 19,
   "metadata": {
    "editable": true
   },
   "outputs": [],
   "source": [
    "# inserir cada linha do dataframe na tabela\n",
    "\n",
    "def loopInsert(dfInsert, stringInsert):\n",
    "    for index, row in dfInsert.iterrows():\n",
    "        cur.execute(stringInsert, row)\n",
    "        conn.commit()"
   ]
  },
  {
   "cell_type": "code",
   "execution_count": 20,
   "metadata": {
    "editable": true
   },
   "outputs": [],
   "source": [
    "loopInsert(dfSongClear, que.song_table_insert)"
   ]
  },
  {
   "cell_type": "markdown",
   "metadata": {
    "editable": true
   },
   "source": [
    "Run `test.ipynb` to see if you've successfully added a record to this table."
   ]
  },
  {
   "cell_type": "markdown",
   "metadata": {
    "editable": true
   },
   "source": [
    "## #2: `artists` Table\n",
    "#### Extract Data for Artists Table\n",
    "- Select columns for artist ID, name, location, latitude, and longitude\n",
    "- Use `df.values` to select just the values from the dataframe\n",
    "- Index to select the first (only) record in the dataframe\n",
    "- Convert the array to a list and set it to `artist_data`"
   ]
  },
  {
   "cell_type": "code",
   "execution_count": 21,
   "metadata": {
    "editable": true
   },
   "outputs": [],
   "source": [
    "artist_data = dfSongComplet[['artist_id', 'artist_name', 'artist_location', \\\n",
    "                             'artist_latitude', 'artist_longitude']]"
   ]
  },
  {
   "cell_type": "markdown",
   "metadata": {
    "editable": true
   },
   "source": [
    "#### Insert Record into Artist Table\n",
    "Implement the `artist_table_insert` query in `sql_queries.py` and run the cell below to insert a record for this song's artist into the `artists` table. Remember to run `create_tables.py` before running the cell below to ensure you've created/resetted the `artists` table in the sparkify database."
   ]
  },
  {
   "cell_type": "code",
   "execution_count": 22,
   "metadata": {
    "editable": true
   },
   "outputs": [],
   "source": [
    "loopInsert(artist_data, que.artist_table_insert)"
   ]
  },
  {
   "cell_type": "markdown",
   "metadata": {
    "editable": true
   },
   "source": [
    "Run `test.ipynb` to see if you've successfully added a record to this table."
   ]
  },
  {
   "cell_type": "markdown",
   "metadata": {
    "editable": true
   },
   "source": [
    "# Process `log_data`\n",
    "In this part, you'll perform ETL on the second dataset, `log_data`, to create the `time` and `users` dimensional tables, as well as the `songplays` fact table.\n",
    "\n",
    "Let's perform ETL on a single log file and load a single record into each table.\n",
    "- Use the `get_files` function provided above to get a list of all log JSON files in `data/log_data`\n",
    "- Select the first log file in this list\n",
    "- Read the log file and view the data"
   ]
  },
  {
   "cell_type": "code",
   "execution_count": 23,
   "metadata": {
    "editable": true
   },
   "outputs": [],
   "source": [
    "# log_files = get_files(\"./data/log_data/\")\n",
    "# filePathLog = log_files[0]\n",
    "# dfLogComplet = pd.read_json(filePathLog, lines=True)\n",
    "\n",
    "dfLogComplet = getDataframeComplet(\"./data/log_data/\")"
   ]
  },
  {
   "cell_type": "code",
   "execution_count": 24,
   "metadata": {
    "editable": true
   },
   "outputs": [],
   "source": [
    "# change columns name\n",
    "\n",
    "dfLogComplet.rename(columns={'userId':'user_id'}, inplace=True)\n",
    "dfLogComplet.rename(columns={'firstName':'first_name'}, inplace=True)\n",
    "dfLogComplet.rename(columns={'lastName':'last_name'}, inplace=True)\n",
    "dfLogComplet.rename(columns={'length':'duration'}, inplace=True)\n",
    "dfLogComplet.rename(columns={'artist':'artist_name'}, inplace=True)"
   ]
  },
  {
   "cell_type": "code",
   "execution_count": 25,
   "metadata": {
    "editable": true
   },
   "outputs": [],
   "source": [
    "#dfLogComplet.head()"
   ]
  },
  {
   "cell_type": "code",
   "execution_count": 26,
   "metadata": {
    "editable": true
   },
   "outputs": [],
   "source": [
    "#dfLogComplet.head()"
   ]
  },
  {
   "cell_type": "markdown",
   "metadata": {
    "editable": true
   },
   "source": [
    "## #3: `time` Table\n",
    "#### Extract Data for Time Table\n",
    "- Filter records by `NextSong` action\n",
    "- Convert the `ts` timestamp column to datetime\n",
    "  - Hint: the current timestamp is in milliseconds\n",
    "- Extract the timestamp, hour, day, week of year, month, year, and weekday from the `ts` column and set `time_data` to a list containing these values in order\n",
    "  - Hint: use pandas' [`dt` attribute](https://pandas.pydata.org/pandas-docs/stable/reference/api/pandas.Series.dt.html) to access easily datetimelike properties.\n",
    "- Specify labels for these columns and set to `column_labels`\n",
    "- Create a dataframe, `time_df,` containing the time data for this file by combining `column_labels` and `time_data` into a dictionary and converting this into a dataframe"
   ]
  },
  {
   "cell_type": "code",
   "execution_count": 27,
   "metadata": {
    "editable": true
   },
   "outputs": [],
   "source": [
    "dfLogComplet['date'] = pd.to_datetime(dfLogComplet['ts'], unit='ns')\n",
    "dfLogComplet['start_time'] = [d.time() for d in dfLogComplet['date']]\n",
    "dfLogComplet['hour'] = [d.time().hour for d in dfLogComplet['date']]\n",
    "dfLogComplet['day'] = [d.date().day for d in dfLogComplet['date']]\n",
    "dfLogComplet['week'] = [d.week for d in dfLogComplet['date']]\n",
    "dfLogComplet['month'] = [d.month for d in dfLogComplet['date']]\n",
    "dfLogComplet['year'] = [d.year for d in dfLogComplet['date']]\n",
    "dfLogComplet['weekday'] = [d.weekday() for d in dfLogComplet['date']] "
   ]
  },
  {
   "cell_type": "code",
   "execution_count": 28,
   "metadata": {
    "editable": true
   },
   "outputs": [],
   "source": [
    "#dfLogComplet.info()"
   ]
  },
  {
   "cell_type": "code",
   "execution_count": 29,
   "metadata": {
    "editable": true
   },
   "outputs": [],
   "source": [
    "time_data = dfLogComplet[['start_time', 'hour', 'day', 'week', 'month', 'year', 'weekday']]"
   ]
  },
  {
   "cell_type": "markdown",
   "metadata": {
    "editable": true
   },
   "source": [
    "#### Insert Records into Time Table\n",
    "Implement the `time_table_insert` query in `sql_queries.py` and run the cell below to insert records for the timestamps in this log file into the `time` table. Remember to run `create_tables.py` before running the cell below to ensure you've created/resetted the `time` table in the sparkify database."
   ]
  },
  {
   "cell_type": "code",
   "execution_count": 30,
   "metadata": {
    "editable": true
   },
   "outputs": [],
   "source": [
    "loopInsert(time_data, que.time_table_insert)"
   ]
  },
  {
   "cell_type": "markdown",
   "metadata": {
    "editable": true
   },
   "source": [
    "Run `test.ipynb` to see if you've successfully added records to this table."
   ]
  },
  {
   "cell_type": "markdown",
   "metadata": {
    "editable": true
   },
   "source": [
    "## #4: `users` Table\n",
    "#### Extract Data for Users Table\n",
    "- Select columns for user ID, first name, last name, gender and level and set to `user_df`"
   ]
  },
  {
   "cell_type": "code",
   "execution_count": 31,
   "metadata": {
    "editable": true
   },
   "outputs": [],
   "source": [
    "dfLogCompletClear = dfLogComplet[dfLogComplet['page']=='NextSong'].reset_index()\n",
    "user_df = dfLogCompletClear[['user_id', 'first_name', 'last_name', 'gender', 'level']]"
   ]
  },
  {
   "cell_type": "code",
   "execution_count": 32,
   "metadata": {
    "editable": true
   },
   "outputs": [
    {
     "name": "stdout",
     "output_type": "stream",
     "text": [
      "<class 'pandas.core.frame.DataFrame'>\n",
      "RangeIndex: 6831 entries, 0 to 6830\n",
      "Data columns (total 5 columns):\n",
      "user_id       6831 non-null object\n",
      "first_name    6831 non-null object\n",
      "last_name     6831 non-null object\n",
      "gender        6831 non-null object\n",
      "level         6831 non-null object\n",
      "dtypes: object(5)\n",
      "memory usage: 266.9+ KB\n"
     ]
    }
   ],
   "source": [
    "user_df.info()"
   ]
  },
  {
   "cell_type": "markdown",
   "metadata": {
    "editable": true
   },
   "source": [
    "#### Insert Records into Users Table\n",
    "Implement the `user_table_insert` query in `sql_queries.py` and run the cell below to insert records for the users in this log file into the `users` table. Remember to run `create_tables.py` before running the cell below to ensure you've created/resetted the `users` table in the sparkify database."
   ]
  },
  {
   "cell_type": "code",
   "execution_count": 33,
   "metadata": {
    "editable": true
   },
   "outputs": [],
   "source": [
    "loopInsert(user_df, que.user_table_insert)"
   ]
  },
  {
   "cell_type": "markdown",
   "metadata": {
    "editable": true
   },
   "source": [
    "Run `test.ipynb` to see if you've successfully added records to this table."
   ]
  },
  {
   "cell_type": "markdown",
   "metadata": {
    "editable": true
   },
   "source": [
    "## #5: `songplays` Table\n",
    "#### Extract Data and Songplays Table\n",
    "This one is a little more complicated since information from the songs table, artists table, and original log file are all needed for the `songplays` table. Since the log file does not specify an ID for either the song or the artist, you'll need to get the song ID and artist ID by querying the songs and artists tables to find matches based on song title, artist name, and song duration time.\n",
    "- Implement the `song_select` query in `sql_queries.py` to find the song ID and artist ID based on the title, artist name, and duration of a song.\n",
    "- Select the timestamp, user ID, level, song ID, artist ID, session ID, location, and user agent and set to `songplay_data`\n",
    "\n",
    "#### Insert Records into Songplays Table\n",
    "- Implement the `songplay_table_insert` query and run the cell below to insert records for the songplay actions in this log file into the `songplays` table. Remember to run `create_tables.py` before running the cell below to ensure you've created/resetted the `songplays` table in the sparkify database."
   ]
  },
  {
   "cell_type": "code",
   "execution_count": 34,
   "metadata": {
    "editable": true
   },
   "outputs": [],
   "source": [
    "#dfSongComplet, dfLogComplet"
   ]
  },
  {
   "cell_type": "code",
   "execution_count": 35,
   "metadata": {
    "editable": true
   },
   "outputs": [],
   "source": [
    "#dfLogCompletClear.info()"
   ]
  },
  {
   "cell_type": "code",
   "execution_count": 36,
   "metadata": {
    "editable": true
   },
   "outputs": [
    {
     "name": "stdout",
     "output_type": "stream",
     "text": [
      "AR5KOSW1187FB35FF4 Elena\n"
     ]
    }
   ],
   "source": [
    "# for index, row in df.iterrows():\n",
    "for index, row in dfLogCompletClear.iterrows():\n",
    "\n",
    "    # get songid and artistid from song and artist tables\n",
    "    cur.execute(que.song_select, (row.song, row.artist_name, row.duration))\n",
    "    #cur.execute(que.song_select, (row.song,))\n",
    "    conn.commit()\n",
    "    results = cur.fetchone()\n",
    "    \n",
    "    if results:\n",
    "        songid, artistid = results\n",
    "        print(songid, artistid) \n",
    "    else:\n",
    "        songid, artistid = None, None\n",
    "\n",
    "    # insert songplay record\n",
    "    songplay_data = (row.ts, row.user_id, row.level, songid, artistid, row.sessionId, row.location, row.userAgent)\n",
    "    cur.execute(que.songplay_table_insert, songplay_data)\n",
    "    conn.commit()"
   ]
  },
  {
   "cell_type": "markdown",
   "metadata": {
    "editable": true
   },
   "source": [
    "Run `test.ipynb` to see if you've successfully added records to this table."
   ]
  },
  {
   "cell_type": "markdown",
   "metadata": {
    "editable": true
   },
   "source": [
    "# Close Connection to Sparkify Database"
   ]
  },
  {
   "cell_type": "code",
   "execution_count": 37,
   "metadata": {
    "editable": true
   },
   "outputs": [],
   "source": [
    "conn.close()"
   ]
  },
  {
   "cell_type": "markdown",
   "metadata": {
    "editable": true
   },
   "source": [
    "# Implement `etl.py`\n",
    "Use what you've completed in this notebook to implement `etl.py`."
   ]
  },
  {
   "cell_type": "code",
   "execution_count": null,
   "metadata": {
    "editable": true
   },
   "outputs": [],
   "source": []
  }
 ],
 "metadata": {
  "kernelspec": {
   "display_name": "Python 3",
   "language": "python",
   "name": "python3"
  },
  "language_info": {
   "codemirror_mode": {
    "name": "ipython",
    "version": 3
   },
   "file_extension": ".py",
   "mimetype": "text/x-python",
   "name": "python",
   "nbconvert_exporter": "python",
   "pygments_lexer": "ipython3",
   "version": "3.6.3"
  }
 },
 "nbformat": 4,
 "nbformat_minor": 4
}
